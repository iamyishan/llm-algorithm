{
 "cells": [
  {
   "cell_type": "markdown",
   "metadata": {},
   "source": [
    "### 完全从零写一个小模型\n",
    "Build a miniGPT from scratch\n",
    "- 从零开始构建 SLM\n",
    "- 运行代码完全手写，一行一行带着运行\n"
   ]
  },
  {
   "cell_type": "code",
   "execution_count": 1,
   "metadata": {},
   "outputs": [
    {
     "data": {
      "text/plain": [
       "<torch._C.Generator at 0x23b85613310>"
      ]
     },
     "execution_count": 1,
     "metadata": {},
     "output_type": "execute_result"
    }
   ],
   "source": [
    "# part 1: 导入相关的 package\n",
    "import torch\n",
    "import torch.nn as nn\n",
    "import torch.nn.functional as F\n",
    "from torch.utils.data import Dataset\n",
    "from torch.utils.data import DataLoader\n",
    "from dataclasses import dataclass\n",
    "\n",
    "torch.manual_seed(1024)"
   ]
  },
  {
   "cell_type": "code",
   "execution_count": 2,
   "metadata": {},
   "outputs": [],
   "source": [
    "@dataclass\n",
    "class GPTConfig:\n",
    "    block_size: int =512 # 这里其实应该是文本的最大长度（ max_seq_len）\n",
    "    batch_size: int =12 \n",
    "    n_layer: int = 6\n",
    "    n_head: int =12\n",
    "    n_embd: int =768 # n_embd 也叫 hidden_dim, hiden_size, 这里我同时设置了和 embed_dim 一样\n",
    "    head_size: int=n_embd//n_head\n",
    "    dropout: float=0.1\n",
    "    #  tiktoken 使用的是 GPT-2 的词表，大约有 50257 个token\n",
    "    vocab_size: int=50257"
   ]
  },
  {
   "cell_type": "markdown",
   "metadata": {},
   "source": [
    "### 模型结构"
   ]
  },
  {
   "cell_type": "code",
   "execution_count": null,
   "metadata": {},
   "outputs": [],
   "source": [
    "class SingleHeadAttention(nn.Module):\n",
    "    #单头注意力机制\n",
    "    def __init__(self,config):\n",
    "        super().__init__()\n",
    "        self.key=nn.Linear(config.n_embd,config.head_size)\n",
    "        self.value=nn.Linear(config.n_embd,config.head_size)\n",
    "        self.query =nn.Linear(config.n_embd,config.head_size)\n",
    "        \n",
    "\n",
    "        # 尝试学习新的写法，attention_mask 通过 register_buffer 注册\n",
    "        # 因为不用计算 梯度，所以节约内存和显存，速度也更快\n",
    "        self.register_buffer(\n",
    "            'attention_mask',\n",
    "            torch.tril(\n",
    "                torch.ones(config.block_size,config.block_size)\n",
    "            )\n",
    "        )\n",
    "        self.dropout=nn.Dropout(config.dropout)\n",
    "    def forward(self,x):\n",
    "        batch_size,seq_len,hidden_size=x.size()\n",
    "        k=self.key(x)\n",
    "        v=self.value(x)\n",
    "        q=self.query(x)\n",
    "        weight=q@ k.transpose(-2,-1) # @ 就是 torch.matmul 的简化写法\n",
    "        weight=weight.masked_fill(\n",
    "            self.attention_mask[:seq_len,:seq_len]==0,\n",
    "            float('-inf')\n",
    "        )\n",
    "        weight=F.softmax(weight,dim=-1)\n",
    "        weight=self.dropout(weight)\n",
    "        out=weight @ v\n",
    "        return out\n",
    "    \n",
    "class MultiHeadAttention(nn.Module):\n",
    "    def __init__(self, config):\n",
    "        super().__init__()\n",
    "        self.heads=nn.ModuleList(\n",
    "            [\n",
    "                SingleHeadAttention(config)\n",
    "                for _ in range(config.n_head)\n",
    "            ])\n",
    "        self.proj=nn.Linear(config.n_embd,config.n_embd)\n",
    "        self.dropout=nn.Dropout(config.dropout)\n",
    "    \n",
    "    def forward(self,x):\n",
    "        output=torch.cat(\n",
    "            [h(x) for h in self.heads],\n",
    "            dim=-1\n",
    "        )\n",
    "        output=self.proj(output)\n",
    "        output=self.dropout(output)\n",
    "        return output\n",
    "    \n",
    "class FeedForward(nn.Module):\n",
    "    # 实际上就是 MLP\n",
    "    def __init__(self, config):\n",
    "        super().__init__()\n",
    "        self.net=nn.Sequential(\n",
    "            nn.Linear(config.n_embd,4*config.n_embd),\n",
    "            nn.GELU(),\n",
    "            nn.Linear(4*config.n_embd,config.n_head),\n",
    "            nn.Dropout(config.dropout)\n",
    "        )\n",
    "    def forward(self,x):\n",
    "        return self.net(x)"
   ]
  },
  {
   "cell_type": "code",
   "execution_count": null,
   "metadata": {},
   "outputs": [],
   "source": []
  }
 ],
 "metadata": {
  "kernelspec": {
   "display_name": "python10",
   "language": "python",
   "name": "python3"
  },
  "language_info": {
   "codemirror_mode": {
    "name": "ipython",
    "version": 3
   },
   "file_extension": ".py",
   "mimetype": "text/x-python",
   "name": "python",
   "nbconvert_exporter": "python",
   "pygments_lexer": "ipython3",
   "version": "3.10.14"
  }
 },
 "nbformat": 4,
 "nbformat_minor": 2
}
